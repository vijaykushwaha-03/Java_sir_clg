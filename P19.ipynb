{
 "cells": [
  {
   "cell_type": "code",
   "execution_count": 1,
   "id": "cae3e035",
   "metadata": {},
   "outputs": [],
   "source": [
    "import pandas as pd"
   ]
  },
  {
   "cell_type": "code",
   "execution_count": 2,
   "id": "7125fe0a",
   "metadata": {},
   "outputs": [],
   "source": [
    "df = pd.read_csv(r\"Z:\\YEAR 2\\ML\\DATASET\\Flower_Data.csv\")"
   ]
  },
  {
   "cell_type": "code",
   "execution_count": 3,
   "id": "f8aa041d",
   "metadata": {},
   "outputs": [
    {
     "data": {
      "text/html": [
       "<div>\n",
       "<style scoped>\n",
       "    .dataframe tbody tr th:only-of-type {\n",
       "        vertical-align: middle;\n",
       "    }\n",
       "\n",
       "    .dataframe tbody tr th {\n",
       "        vertical-align: top;\n",
       "    }\n",
       "\n",
       "    .dataframe thead th {\n",
       "        text-align: right;\n",
       "    }\n",
       "</style>\n",
       "<table border=\"1\" class=\"dataframe\">\n",
       "  <thead>\n",
       "    <tr style=\"text-align: right;\">\n",
       "      <th></th>\n",
       "      <th>Id</th>\n",
       "      <th>SepalLengthCm</th>\n",
       "      <th>SepalWidthCm</th>\n",
       "      <th>PetalLengthCm</th>\n",
       "      <th>PetalWidthCm</th>\n",
       "      <th>Species</th>\n",
       "    </tr>\n",
       "  </thead>\n",
       "  <tbody>\n",
       "    <tr>\n",
       "      <th>0</th>\n",
       "      <td>1</td>\n",
       "      <td>5.1</td>\n",
       "      <td>3.5</td>\n",
       "      <td>1.4</td>\n",
       "      <td>0.2</td>\n",
       "      <td>Iris-setosa</td>\n",
       "    </tr>\n",
       "    <tr>\n",
       "      <th>1</th>\n",
       "      <td>2</td>\n",
       "      <td>4.9</td>\n",
       "      <td>3.0</td>\n",
       "      <td>1.4</td>\n",
       "      <td>0.2</td>\n",
       "      <td>Iris-setosa</td>\n",
       "    </tr>\n",
       "    <tr>\n",
       "      <th>2</th>\n",
       "      <td>3</td>\n",
       "      <td>4.7</td>\n",
       "      <td>3.2</td>\n",
       "      <td>1.3</td>\n",
       "      <td>0.2</td>\n",
       "      <td>Iris-setosa</td>\n",
       "    </tr>\n",
       "    <tr>\n",
       "      <th>3</th>\n",
       "      <td>4</td>\n",
       "      <td>4.6</td>\n",
       "      <td>3.1</td>\n",
       "      <td>1.5</td>\n",
       "      <td>0.2</td>\n",
       "      <td>Iris-setosa</td>\n",
       "    </tr>\n",
       "    <tr>\n",
       "      <th>4</th>\n",
       "      <td>5</td>\n",
       "      <td>5.0</td>\n",
       "      <td>3.6</td>\n",
       "      <td>1.4</td>\n",
       "      <td>0.2</td>\n",
       "      <td>Iris-setosa</td>\n",
       "    </tr>\n",
       "    <tr>\n",
       "      <th>...</th>\n",
       "      <td>...</td>\n",
       "      <td>...</td>\n",
       "      <td>...</td>\n",
       "      <td>...</td>\n",
       "      <td>...</td>\n",
       "      <td>...</td>\n",
       "    </tr>\n",
       "    <tr>\n",
       "      <th>95</th>\n",
       "      <td>96</td>\n",
       "      <td>5.7</td>\n",
       "      <td>3.0</td>\n",
       "      <td>4.2</td>\n",
       "      <td>1.2</td>\n",
       "      <td>Iris-versicolor</td>\n",
       "    </tr>\n",
       "    <tr>\n",
       "      <th>96</th>\n",
       "      <td>97</td>\n",
       "      <td>5.7</td>\n",
       "      <td>2.9</td>\n",
       "      <td>4.2</td>\n",
       "      <td>1.3</td>\n",
       "      <td>Iris-versicolor</td>\n",
       "    </tr>\n",
       "    <tr>\n",
       "      <th>97</th>\n",
       "      <td>98</td>\n",
       "      <td>6.2</td>\n",
       "      <td>2.9</td>\n",
       "      <td>4.3</td>\n",
       "      <td>1.3</td>\n",
       "      <td>Iris-versicolor</td>\n",
       "    </tr>\n",
       "    <tr>\n",
       "      <th>98</th>\n",
       "      <td>99</td>\n",
       "      <td>5.1</td>\n",
       "      <td>2.5</td>\n",
       "      <td>3.0</td>\n",
       "      <td>1.1</td>\n",
       "      <td>Iris-versicolor</td>\n",
       "    </tr>\n",
       "    <tr>\n",
       "      <th>99</th>\n",
       "      <td>100</td>\n",
       "      <td>5.7</td>\n",
       "      <td>2.8</td>\n",
       "      <td>4.1</td>\n",
       "      <td>1.3</td>\n",
       "      <td>Iris-versicolor</td>\n",
       "    </tr>\n",
       "  </tbody>\n",
       "</table>\n",
       "<p>100 rows × 6 columns</p>\n",
       "</div>"
      ],
      "text/plain": [
       "     Id  SepalLengthCm  SepalWidthCm  PetalLengthCm  PetalWidthCm  \\\n",
       "0     1            5.1           3.5            1.4           0.2   \n",
       "1     2            4.9           3.0            1.4           0.2   \n",
       "2     3            4.7           3.2            1.3           0.2   \n",
       "3     4            4.6           3.1            1.5           0.2   \n",
       "4     5            5.0           3.6            1.4           0.2   \n",
       "..  ...            ...           ...            ...           ...   \n",
       "95   96            5.7           3.0            4.2           1.2   \n",
       "96   97            5.7           2.9            4.2           1.3   \n",
       "97   98            6.2           2.9            4.3           1.3   \n",
       "98   99            5.1           2.5            3.0           1.1   \n",
       "99  100            5.7           2.8            4.1           1.3   \n",
       "\n",
       "            Species  \n",
       "0       Iris-setosa  \n",
       "1       Iris-setosa  \n",
       "2       Iris-setosa  \n",
       "3       Iris-setosa  \n",
       "4       Iris-setosa  \n",
       "..              ...  \n",
       "95  Iris-versicolor  \n",
       "96  Iris-versicolor  \n",
       "97  Iris-versicolor  \n",
       "98  Iris-versicolor  \n",
       "99  Iris-versicolor  \n",
       "\n",
       "[100 rows x 6 columns]"
      ]
     },
     "execution_count": 3,
     "metadata": {},
     "output_type": "execute_result"
    }
   ],
   "source": [
    "df"
   ]
  },
  {
   "cell_type": "code",
   "execution_count": 4,
   "id": "8401d515",
   "metadata": {},
   "outputs": [],
   "source": [
    "x=df.iloc[:,[1,3]].values\n",
    "y=df.iloc[:,2].values"
   ]
  },
  {
   "cell_type": "code",
   "execution_count": 5,
   "id": "1a01d64e",
   "metadata": {},
   "outputs": [],
   "source": [
    "from sklearn.model_selection import train_test_split\n",
    "x_train, x_test, y_train, y_test= train_test_split(x,y,test_size=0.25,random_state=10)"
   ]
  },
  {
   "cell_type": "code",
   "execution_count": 6,
   "id": "498fd06e",
   "metadata": {},
   "outputs": [
    {
     "data": {
      "text/plain": [
       "array([[ 56. ,   5.7],\n",
       "       [ 22. ,   5.1],\n",
       "       [ 62. ,   5.9],\n",
       "       [  7. ,   4.6],\n",
       "       [ 64. ,   6.1],\n",
       "       [ 43. ,   4.4],\n",
       "       [ 35. ,   4.9],\n",
       "       [ 85. ,   5.4],\n",
       "       [ 53. ,   6.9],\n",
       "       [ 36. ,   5. ],\n",
       "       [ 40. ,   5.1],\n",
       "       [ 46. ,   4.8],\n",
       "       [  5. ,   5. ],\n",
       "       [  6. ,   5.4],\n",
       "       [ 49. ,   5.3],\n",
       "       [ 33. ,   5.2],\n",
       "       [ 21. ,   5.4],\n",
       "       [ 84. ,   6. ],\n",
       "       [ 59. ,   6.6],\n",
       "       [ 48. ,   4.6],\n",
       "       [ 81. ,   5.5],\n",
       "       [ 18. ,   5.1],\n",
       "       [ 68. ,   5.8],\n",
       "       [ 82. ,   5.5],\n",
       "       [  8. ,   5. ],\n",
       "       [ 88. ,   6.3],\n",
       "       [ 98. ,   6.2],\n",
       "       [ 99. ,   5.1],\n",
       "       [100. ,   5.7],\n",
       "       [ 25. ,   4.8],\n",
       "       [ 11. ,   5.4],\n",
       "       [ 97. ,   5.7],\n",
       "       [ 87. ,   6.7],\n",
       "       [ 57. ,   6.3],\n",
       "       [ 72. ,   6.1],\n",
       "       [ 24. ,   5.1],\n",
       "       [ 23. ,   4.6],\n",
       "       [ 92. ,   6.1],\n",
       "       [ 95. ,   5.6],\n",
       "       [ 19. ,   5.7],\n",
       "       [ 28. ,   5.2],\n",
       "       [ 89. ,   5.6],\n",
       "       [ 58. ,   4.9],\n",
       "       [ 32. ,   5.4],\n",
       "       [ 66. ,   6.7],\n",
       "       [ 13. ,   4.8],\n",
       "       [ 83. ,   5.8],\n",
       "       [ 31. ,   4.8],\n",
       "       [ 76. ,   6.6],\n",
       "       [ 26. ,   5. ],\n",
       "       [ 14. ,   4.3],\n",
       "       [ 70. ,   5.6],\n",
       "       [ 78. ,   6.7],\n",
       "       [ 86. ,   6. ],\n",
       "       [ 52. ,   6.4],\n",
       "       [ 50. ,   5. ],\n",
       "       [ 79. ,   6. ],\n",
       "       [ 73. ,   6.3],\n",
       "       [ 34. ,   5.5],\n",
       "       [ 63. ,   6. ],\n",
       "       [ 55. ,   6.5],\n",
       "       [ 12. ,   4.8],\n",
       "       [ 17. ,   5.4],\n",
       "       [ 37. ,   5.5],\n",
       "       [ 41. ,   5. ],\n",
       "       [  1. ,   5.1],\n",
       "       [ 74. ,   6.1],\n",
       "       [  9. ,   4.4],\n",
       "       [ 30. ,   4.7],\n",
       "       [ 94. ,   5. ],\n",
       "       [ 90. ,   5.5],\n",
       "       [ 29. ,   5.2],\n",
       "       [ 65. ,   5.6],\n",
       "       [ 16. ,   5.7],\n",
       "       [ 10. ,   4.9]])"
      ]
     },
     "execution_count": 6,
     "metadata": {},
     "output_type": "execute_result"
    }
   ],
   "source": [
    "x_train"
   ]
  },
  {
   "cell_type": "code",
   "execution_count": 7,
   "id": "87a07433",
   "metadata": {},
   "outputs": [
    {
     "data": {
      "text/plain": [
       "array([[20. ,  5.1],\n",
       "       [15. ,  5.8],\n",
       "       [44. ,  5. ],\n",
       "       [38. ,  4.9],\n",
       "       [67. ,  5.6],\n",
       "       [ 4. ,  4.6],\n",
       "       [80. ,  5.7],\n",
       "       [42. ,  4.5],\n",
       "       [39. ,  4.4],\n",
       "       [69. ,  6.2],\n",
       "       [ 3. ,  4.7],\n",
       "       [ 2. ,  4.9],\n",
       "       [61. ,  5. ],\n",
       "       [54. ,  5.5],\n",
       "       [96. ,  5.7],\n",
       "       [75. ,  6.4],\n",
       "       [93. ,  5.8],\n",
       "       [27. ,  5. ],\n",
       "       [60. ,  5.2],\n",
       "       [47. ,  5.1],\n",
       "       [91. ,  5.5],\n",
       "       [71. ,  5.9],\n",
       "       [51. ,  7. ],\n",
       "       [45. ,  5.1],\n",
       "       [77. ,  6.8]])"
      ]
     },
     "execution_count": 7,
     "metadata": {},
     "output_type": "execute_result"
    }
   ],
   "source": [
    "x_test"
   ]
  },
  {
   "cell_type": "code",
   "execution_count": 8,
   "id": "d7576009",
   "metadata": {},
   "outputs": [
    {
     "data": {
      "text/plain": [
       "array([2.8, 3.7, 3. , 3.4, 2.9, 3.2, 3.1, 3. , 3.1, 3.2, 3.4, 3. , 3.6,\n",
       "       3.9, 3.7, 4.1, 3.4, 2.7, 2.9, 3.2, 2.4, 3.5, 2.7, 2.4, 3.4, 2.3,\n",
       "       2.9, 2.5, 2.8, 3.4, 3.7, 2.9, 3.1, 3.3, 2.8, 3.3, 3.6, 3. , 2.7,\n",
       "       3.8, 3.5, 3. , 2.4, 3.4, 3.1, 3. , 2.7, 3.1, 3. , 3. , 3. , 2.5,\n",
       "       3. , 3.4, 3.2, 3.3, 2.9, 2.5, 4.2, 2.2, 2.8, 3.4, 3.9, 3.5, 3.5,\n",
       "       3.5, 2.8, 2.9, 3.2, 2.3, 2.5, 3.4, 2.9, 4.4, 3.1])"
      ]
     },
     "execution_count": 8,
     "metadata": {},
     "output_type": "execute_result"
    }
   ],
   "source": [
    "y_train"
   ]
  },
  {
   "cell_type": "code",
   "execution_count": 9,
   "id": "a11f451a",
   "metadata": {},
   "outputs": [
    {
     "data": {
      "text/plain": [
       "array([3.8, 4. , 3.5, 3.1, 3. , 3.1, 2.6, 2.3, 3. , 2.2, 3.2, 3. , 2. ,\n",
       "       2.3, 3. , 2.9, 2.6, 3.4, 2.7, 3.8, 2.6, 3.2, 3.2, 3.8, 2.8])"
      ]
     },
     "execution_count": 9,
     "metadata": {},
     "output_type": "execute_result"
    }
   ],
   "source": [
    "y_test"
   ]
  },
  {
   "cell_type": "code",
   "execution_count": 12,
   "id": "5a55a432",
   "metadata": {},
   "outputs": [],
   "source": [
    "from sklearn.preprocessing import StandardScaler\n",
    "st_x=StandardScaler()\n",
    "x_train = st_x.fit_transform(x_train)\n",
    "x_test = st_x.transform(x_test)"
   ]
  }
 ],
 "metadata": {
  "kernelspec": {
   "display_name": "Python 3 (ipykernel)",
   "language": "python",
   "name": "python3"
  },
  "language_info": {
   "codemirror_mode": {
    "name": "ipython",
    "version": 3
   },
   "file_extension": ".py",
   "mimetype": "text/x-python",
   "name": "python",
   "nbconvert_exporter": "python",
   "pygments_lexer": "ipython3",
   "version": "3.9.7"
  }
 },
 "nbformat": 4,
 "nbformat_minor": 5
}
