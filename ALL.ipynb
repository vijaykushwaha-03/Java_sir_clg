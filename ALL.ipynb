{
 "cells": [
  {
   "cell_type": "code",
   "execution_count": 83,
   "id": "5640219f",
   "metadata": {},
   "outputs": [],
   "source": [
    "import pandas as pd"
   ]
  },
  {
   "cell_type": "code",
   "execution_count": 84,
   "id": "49e65b66",
   "metadata": {},
   "outputs": [],
   "source": [
    "df = pd.read_csv(r\"Z:\\YEAR 2\\ML\\DATASET\\Dry_Bean_Dataset.csv\")"
   ]
  },
  {
   "cell_type": "code",
   "execution_count": 85,
   "id": "78a1f9b6",
   "metadata": {},
   "outputs": [
    {
     "data": {
      "text/html": [
       "<div>\n",
       "<style scoped>\n",
       "    .dataframe tbody tr th:only-of-type {\n",
       "        vertical-align: middle;\n",
       "    }\n",
       "\n",
       "    .dataframe tbody tr th {\n",
       "        vertical-align: top;\n",
       "    }\n",
       "\n",
       "    .dataframe thead th {\n",
       "        text-align: right;\n",
       "    }\n",
       "</style>\n",
       "<table border=\"1\" class=\"dataframe\">\n",
       "  <thead>\n",
       "    <tr style=\"text-align: right;\">\n",
       "      <th></th>\n",
       "      <th>Area</th>\n",
       "      <th>Perimeter</th>\n",
       "      <th>MajorAxisLength</th>\n",
       "      <th>MinorAxisLength</th>\n",
       "      <th>AspectRation</th>\n",
       "      <th>Eccentricity</th>\n",
       "      <th>ConvexArea</th>\n",
       "      <th>EquivDiameter</th>\n",
       "      <th>Extent</th>\n",
       "      <th>Solidity</th>\n",
       "      <th>roundness</th>\n",
       "      <th>Compactness</th>\n",
       "      <th>ShapeFactor1</th>\n",
       "      <th>ShapeFactor2</th>\n",
       "      <th>ShapeFactor3</th>\n",
       "      <th>ShapeFactor4</th>\n",
       "      <th>Class</th>\n",
       "    </tr>\n",
       "  </thead>\n",
       "  <tbody>\n",
       "    <tr>\n",
       "      <th>0</th>\n",
       "      <td>114004</td>\n",
       "      <td>1279.356</td>\n",
       "      <td>451.361256</td>\n",
       "      <td>323.747996</td>\n",
       "      <td>1.394175</td>\n",
       "      <td>0.696795</td>\n",
       "      <td>115298</td>\n",
       "      <td>380.991340</td>\n",
       "      <td>0.748987</td>\n",
       "      <td>0.988777</td>\n",
       "      <td>0.875280</td>\n",
       "      <td>0.844094</td>\n",
       "      <td>0.003959</td>\n",
       "      <td>0.001240</td>\n",
       "      <td>0.712495</td>\n",
       "      <td>0.993342</td>\n",
       "      <td>BOMBAY</td>\n",
       "    </tr>\n",
       "    <tr>\n",
       "      <th>1</th>\n",
       "      <td>117034</td>\n",
       "      <td>1265.926</td>\n",
       "      <td>425.923788</td>\n",
       "      <td>351.215109</td>\n",
       "      <td>1.212715</td>\n",
       "      <td>0.565722</td>\n",
       "      <td>118019</td>\n",
       "      <td>386.021135</td>\n",
       "      <td>0.746319</td>\n",
       "      <td>0.991654</td>\n",
       "      <td>0.917710</td>\n",
       "      <td>0.906315</td>\n",
       "      <td>0.003639</td>\n",
       "      <td>0.001515</td>\n",
       "      <td>0.821407</td>\n",
       "      <td>0.996132</td>\n",
       "      <td>BOMBAY</td>\n",
       "    </tr>\n",
       "    <tr>\n",
       "      <th>2</th>\n",
       "      <td>126503</td>\n",
       "      <td>1326.959</td>\n",
       "      <td>475.772459</td>\n",
       "      <td>339.381887</td>\n",
       "      <td>1.401879</td>\n",
       "      <td>0.700830</td>\n",
       "      <td>128220</td>\n",
       "      <td>401.333555</td>\n",
       "      <td>0.771313</td>\n",
       "      <td>0.986609</td>\n",
       "      <td>0.902809</td>\n",
       "      <td>0.843541</td>\n",
       "      <td>0.003761</td>\n",
       "      <td>0.001175</td>\n",
       "      <td>0.711561</td>\n",
       "      <td>0.997523</td>\n",
       "      <td>BOMBAY</td>\n",
       "    </tr>\n",
       "    <tr>\n",
       "      <th>3</th>\n",
       "      <td>128118</td>\n",
       "      <td>1360.135</td>\n",
       "      <td>504.024964</td>\n",
       "      <td>325.678447</td>\n",
       "      <td>1.547615</td>\n",
       "      <td>0.763206</td>\n",
       "      <td>129274</td>\n",
       "      <td>403.887242</td>\n",
       "      <td>0.782247</td>\n",
       "      <td>0.991058</td>\n",
       "      <td>0.870274</td>\n",
       "      <td>0.801324</td>\n",
       "      <td>0.003934</td>\n",
       "      <td>0.001001</td>\n",
       "      <td>0.642120</td>\n",
       "      <td>0.993755</td>\n",
       "      <td>BOMBAY</td>\n",
       "    </tr>\n",
       "    <tr>\n",
       "      <th>4</th>\n",
       "      <td>129409</td>\n",
       "      <td>1348.888</td>\n",
       "      <td>484.364424</td>\n",
       "      <td>341.172659</td>\n",
       "      <td>1.419705</td>\n",
       "      <td>0.709831</td>\n",
       "      <td>130688</td>\n",
       "      <td>405.917056</td>\n",
       "      <td>0.799334</td>\n",
       "      <td>0.990213</td>\n",
       "      <td>0.893763</td>\n",
       "      <td>0.838041</td>\n",
       "      <td>0.003743</td>\n",
       "      <td>0.001139</td>\n",
       "      <td>0.702312</td>\n",
       "      <td>0.997076</td>\n",
       "      <td>BOMBAY</td>\n",
       "    </tr>\n",
       "    <tr>\n",
       "      <th>...</th>\n",
       "      <td>...</td>\n",
       "      <td>...</td>\n",
       "      <td>...</td>\n",
       "      <td>...</td>\n",
       "      <td>...</td>\n",
       "      <td>...</td>\n",
       "      <td>...</td>\n",
       "      <td>...</td>\n",
       "      <td>...</td>\n",
       "      <td>...</td>\n",
       "      <td>...</td>\n",
       "      <td>...</td>\n",
       "      <td>...</td>\n",
       "      <td>...</td>\n",
       "      <td>...</td>\n",
       "      <td>...</td>\n",
       "      <td>...</td>\n",
       "    </tr>\n",
       "    <tr>\n",
       "      <th>3153</th>\n",
       "      <td>58063</td>\n",
       "      <td>941.882</td>\n",
       "      <td>366.689523</td>\n",
       "      <td>202.790970</td>\n",
       "      <td>1.808214</td>\n",
       "      <td>0.833160</td>\n",
       "      <td>58936</td>\n",
       "      <td>271.897237</td>\n",
       "      <td>0.735012</td>\n",
       "      <td>0.985187</td>\n",
       "      <td>0.822463</td>\n",
       "      <td>0.741492</td>\n",
       "      <td>0.006315</td>\n",
       "      <td>0.001178</td>\n",
       "      <td>0.549810</td>\n",
       "      <td>0.994174</td>\n",
       "      <td>SIRA</td>\n",
       "    </tr>\n",
       "    <tr>\n",
       "      <th>3154</th>\n",
       "      <td>58074</td>\n",
       "      <td>910.115</td>\n",
       "      <td>351.958861</td>\n",
       "      <td>210.417832</td>\n",
       "      <td>1.672667</td>\n",
       "      <td>0.801610</td>\n",
       "      <td>58609</td>\n",
       "      <td>271.922992</td>\n",
       "      <td>0.777648</td>\n",
       "      <td>0.990872</td>\n",
       "      <td>0.881047</td>\n",
       "      <td>0.772599</td>\n",
       "      <td>0.006061</td>\n",
       "      <td>0.001332</td>\n",
       "      <td>0.596909</td>\n",
       "      <td>0.998430</td>\n",
       "      <td>SIRA</td>\n",
       "    </tr>\n",
       "    <tr>\n",
       "      <th>3155</th>\n",
       "      <td>59431</td>\n",
       "      <td>956.785</td>\n",
       "      <td>390.489073</td>\n",
       "      <td>194.564645</td>\n",
       "      <td>2.006989</td>\n",
       "      <td>0.867028</td>\n",
       "      <td>60276</td>\n",
       "      <td>275.081623</td>\n",
       "      <td>0.689839</td>\n",
       "      <td>0.985981</td>\n",
       "      <td>0.815820</td>\n",
       "      <td>0.704454</td>\n",
       "      <td>0.006570</td>\n",
       "      <td>0.000998</td>\n",
       "      <td>0.496256</td>\n",
       "      <td>0.995979</td>\n",
       "      <td>SIRA</td>\n",
       "    </tr>\n",
       "    <tr>\n",
       "      <th>3156</th>\n",
       "      <td>60493</td>\n",
       "      <td>931.321</td>\n",
       "      <td>363.814243</td>\n",
       "      <td>212.613752</td>\n",
       "      <td>1.711151</td>\n",
       "      <td>0.811464</td>\n",
       "      <td>61239</td>\n",
       "      <td>277.528521</td>\n",
       "      <td>0.791814</td>\n",
       "      <td>0.987818</td>\n",
       "      <td>0.876428</td>\n",
       "      <td>0.762830</td>\n",
       "      <td>0.006014</td>\n",
       "      <td>0.001256</td>\n",
       "      <td>0.581910</td>\n",
       "      <td>0.995736</td>\n",
       "      <td>SIRA</td>\n",
       "    </tr>\n",
       "    <tr>\n",
       "      <th>3157</th>\n",
       "      <td>63612</td>\n",
       "      <td>984.282</td>\n",
       "      <td>400.931467</td>\n",
       "      <td>204.347808</td>\n",
       "      <td>1.962005</td>\n",
       "      <td>0.860362</td>\n",
       "      <td>64581</td>\n",
       "      <td>284.593243</td>\n",
       "      <td>0.815664</td>\n",
       "      <td>0.984996</td>\n",
       "      <td>0.825106</td>\n",
       "      <td>0.709830</td>\n",
       "      <td>0.006303</td>\n",
       "      <td>0.000987</td>\n",
       "      <td>0.503859</td>\n",
       "      <td>0.988574</td>\n",
       "      <td>SIRA</td>\n",
       "    </tr>\n",
       "  </tbody>\n",
       "</table>\n",
       "<p>3158 rows × 17 columns</p>\n",
       "</div>"
      ],
      "text/plain": [
       "        Area  Perimeter  MajorAxisLength  MinorAxisLength  AspectRation  \\\n",
       "0     114004   1279.356       451.361256       323.747996      1.394175   \n",
       "1     117034   1265.926       425.923788       351.215109      1.212715   \n",
       "2     126503   1326.959       475.772459       339.381887      1.401879   \n",
       "3     128118   1360.135       504.024964       325.678447      1.547615   \n",
       "4     129409   1348.888       484.364424       341.172659      1.419705   \n",
       "...      ...        ...              ...              ...           ...   \n",
       "3153   58063    941.882       366.689523       202.790970      1.808214   \n",
       "3154   58074    910.115       351.958861       210.417832      1.672667   \n",
       "3155   59431    956.785       390.489073       194.564645      2.006989   \n",
       "3156   60493    931.321       363.814243       212.613752      1.711151   \n",
       "3157   63612    984.282       400.931467       204.347808      1.962005   \n",
       "\n",
       "      Eccentricity  ConvexArea  EquivDiameter    Extent  Solidity  roundness  \\\n",
       "0         0.696795      115298     380.991340  0.748987  0.988777   0.875280   \n",
       "1         0.565722      118019     386.021135  0.746319  0.991654   0.917710   \n",
       "2         0.700830      128220     401.333555  0.771313  0.986609   0.902809   \n",
       "3         0.763206      129274     403.887242  0.782247  0.991058   0.870274   \n",
       "4         0.709831      130688     405.917056  0.799334  0.990213   0.893763   \n",
       "...            ...         ...            ...       ...       ...        ...   \n",
       "3153      0.833160       58936     271.897237  0.735012  0.985187   0.822463   \n",
       "3154      0.801610       58609     271.922992  0.777648  0.990872   0.881047   \n",
       "3155      0.867028       60276     275.081623  0.689839  0.985981   0.815820   \n",
       "3156      0.811464       61239     277.528521  0.791814  0.987818   0.876428   \n",
       "3157      0.860362       64581     284.593243  0.815664  0.984996   0.825106   \n",
       "\n",
       "      Compactness  ShapeFactor1  ShapeFactor2  ShapeFactor3  ShapeFactor4  \\\n",
       "0        0.844094      0.003959      0.001240      0.712495      0.993342   \n",
       "1        0.906315      0.003639      0.001515      0.821407      0.996132   \n",
       "2        0.843541      0.003761      0.001175      0.711561      0.997523   \n",
       "3        0.801324      0.003934      0.001001      0.642120      0.993755   \n",
       "4        0.838041      0.003743      0.001139      0.702312      0.997076   \n",
       "...           ...           ...           ...           ...           ...   \n",
       "3153     0.741492      0.006315      0.001178      0.549810      0.994174   \n",
       "3154     0.772599      0.006061      0.001332      0.596909      0.998430   \n",
       "3155     0.704454      0.006570      0.000998      0.496256      0.995979   \n",
       "3156     0.762830      0.006014      0.001256      0.581910      0.995736   \n",
       "3157     0.709830      0.006303      0.000987      0.503859      0.988574   \n",
       "\n",
       "       Class  \n",
       "0     BOMBAY  \n",
       "1     BOMBAY  \n",
       "2     BOMBAY  \n",
       "3     BOMBAY  \n",
       "4     BOMBAY  \n",
       "...      ...  \n",
       "3153    SIRA  \n",
       "3154    SIRA  \n",
       "3155    SIRA  \n",
       "3156    SIRA  \n",
       "3157    SIRA  \n",
       "\n",
       "[3158 rows x 17 columns]"
      ]
     },
     "execution_count": 85,
     "metadata": {},
     "output_type": "execute_result"
    }
   ],
   "source": [
    "df"
   ]
  },
  {
   "cell_type": "code",
   "execution_count": 86,
   "id": "a2df113d",
   "metadata": {},
   "outputs": [],
   "source": [
    "new_lr_df = df[['Area','Perimeter']]"
   ]
  },
  {
   "cell_type": "code",
   "execution_count": 87,
   "id": "d5f09e8b",
   "metadata": {},
   "outputs": [
    {
     "data": {
      "text/html": [
       "<div>\n",
       "<style scoped>\n",
       "    .dataframe tbody tr th:only-of-type {\n",
       "        vertical-align: middle;\n",
       "    }\n",
       "\n",
       "    .dataframe tbody tr th {\n",
       "        vertical-align: top;\n",
       "    }\n",
       "\n",
       "    .dataframe thead th {\n",
       "        text-align: right;\n",
       "    }\n",
       "</style>\n",
       "<table border=\"1\" class=\"dataframe\">\n",
       "  <thead>\n",
       "    <tr style=\"text-align: right;\">\n",
       "      <th></th>\n",
       "      <th>Area</th>\n",
       "      <th>Perimeter</th>\n",
       "    </tr>\n",
       "  </thead>\n",
       "  <tbody>\n",
       "    <tr>\n",
       "      <th>0</th>\n",
       "      <td>114004</td>\n",
       "      <td>1279.356</td>\n",
       "    </tr>\n",
       "    <tr>\n",
       "      <th>1</th>\n",
       "      <td>117034</td>\n",
       "      <td>1265.926</td>\n",
       "    </tr>\n",
       "    <tr>\n",
       "      <th>2</th>\n",
       "      <td>126503</td>\n",
       "      <td>1326.959</td>\n",
       "    </tr>\n",
       "    <tr>\n",
       "      <th>3</th>\n",
       "      <td>128118</td>\n",
       "      <td>1360.135</td>\n",
       "    </tr>\n",
       "    <tr>\n",
       "      <th>4</th>\n",
       "      <td>129409</td>\n",
       "      <td>1348.888</td>\n",
       "    </tr>\n",
       "    <tr>\n",
       "      <th>...</th>\n",
       "      <td>...</td>\n",
       "      <td>...</td>\n",
       "    </tr>\n",
       "    <tr>\n",
       "      <th>3153</th>\n",
       "      <td>58063</td>\n",
       "      <td>941.882</td>\n",
       "    </tr>\n",
       "    <tr>\n",
       "      <th>3154</th>\n",
       "      <td>58074</td>\n",
       "      <td>910.115</td>\n",
       "    </tr>\n",
       "    <tr>\n",
       "      <th>3155</th>\n",
       "      <td>59431</td>\n",
       "      <td>956.785</td>\n",
       "    </tr>\n",
       "    <tr>\n",
       "      <th>3156</th>\n",
       "      <td>60493</td>\n",
       "      <td>931.321</td>\n",
       "    </tr>\n",
       "    <tr>\n",
       "      <th>3157</th>\n",
       "      <td>63612</td>\n",
       "      <td>984.282</td>\n",
       "    </tr>\n",
       "  </tbody>\n",
       "</table>\n",
       "<p>3158 rows × 2 columns</p>\n",
       "</div>"
      ],
      "text/plain": [
       "        Area  Perimeter\n",
       "0     114004   1279.356\n",
       "1     117034   1265.926\n",
       "2     126503   1326.959\n",
       "3     128118   1360.135\n",
       "4     129409   1348.888\n",
       "...      ...        ...\n",
       "3153   58063    941.882\n",
       "3154   58074    910.115\n",
       "3155   59431    956.785\n",
       "3156   60493    931.321\n",
       "3157   63612    984.282\n",
       "\n",
       "[3158 rows x 2 columns]"
      ]
     },
     "execution_count": 87,
     "metadata": {},
     "output_type": "execute_result"
    }
   ],
   "source": [
    "new_lr_df"
   ]
  },
  {
   "cell_type": "code",
   "execution_count": 88,
   "id": "ecaccc83",
   "metadata": {},
   "outputs": [],
   "source": [
    "#linearRegression\n",
    "from sklearn import linear_model"
   ]
  },
  {
   "cell_type": "code",
   "execution_count": 89,
   "id": "697c55f3",
   "metadata": {},
   "outputs": [
    {
     "data": {
      "text/html": [
       "<div>\n",
       "<style scoped>\n",
       "    .dataframe tbody tr th:only-of-type {\n",
       "        vertical-align: middle;\n",
       "    }\n",
       "\n",
       "    .dataframe tbody tr th {\n",
       "        vertical-align: top;\n",
       "    }\n",
       "\n",
       "    .dataframe thead th {\n",
       "        text-align: right;\n",
       "    }\n",
       "</style>\n",
       "<table border=\"1\" class=\"dataframe\">\n",
       "  <thead>\n",
       "    <tr style=\"text-align: right;\">\n",
       "      <th></th>\n",
       "      <th>Perimeter</th>\n",
       "    </tr>\n",
       "  </thead>\n",
       "  <tbody>\n",
       "    <tr>\n",
       "      <th>0</th>\n",
       "      <td>1279.356</td>\n",
       "    </tr>\n",
       "    <tr>\n",
       "      <th>1</th>\n",
       "      <td>1265.926</td>\n",
       "    </tr>\n",
       "    <tr>\n",
       "      <th>2</th>\n",
       "      <td>1326.959</td>\n",
       "    </tr>\n",
       "    <tr>\n",
       "      <th>3</th>\n",
       "      <td>1360.135</td>\n",
       "    </tr>\n",
       "    <tr>\n",
       "      <th>4</th>\n",
       "      <td>1348.888</td>\n",
       "    </tr>\n",
       "    <tr>\n",
       "      <th>...</th>\n",
       "      <td>...</td>\n",
       "    </tr>\n",
       "    <tr>\n",
       "      <th>3153</th>\n",
       "      <td>941.882</td>\n",
       "    </tr>\n",
       "    <tr>\n",
       "      <th>3154</th>\n",
       "      <td>910.115</td>\n",
       "    </tr>\n",
       "    <tr>\n",
       "      <th>3155</th>\n",
       "      <td>956.785</td>\n",
       "    </tr>\n",
       "    <tr>\n",
       "      <th>3156</th>\n",
       "      <td>931.321</td>\n",
       "    </tr>\n",
       "    <tr>\n",
       "      <th>3157</th>\n",
       "      <td>984.282</td>\n",
       "    </tr>\n",
       "  </tbody>\n",
       "</table>\n",
       "<p>3158 rows × 1 columns</p>\n",
       "</div>"
      ],
      "text/plain": [
       "      Perimeter\n",
       "0      1279.356\n",
       "1      1265.926\n",
       "2      1326.959\n",
       "3      1360.135\n",
       "4      1348.888\n",
       "...         ...\n",
       "3153    941.882\n",
       "3154    910.115\n",
       "3155    956.785\n",
       "3156    931.321\n",
       "3157    984.282\n",
       "\n",
       "[3158 rows x 1 columns]"
      ]
     },
     "execution_count": 89,
     "metadata": {},
     "output_type": "execute_result"
    }
   ],
   "source": [
    "df_lr = new_lr_df.drop('Area',axis='columns')\n",
    "df_lr"
   ]
  },
  {
   "cell_type": "code",
   "execution_count": 90,
   "id": "1d595eea",
   "metadata": {},
   "outputs": [],
   "source": [
    "model = linear_model.LinearRegression()"
   ]
  },
  {
   "cell_type": "code",
   "execution_count": 91,
   "id": "8e7572da",
   "metadata": {},
   "outputs": [
    {
     "data": {
      "text/plain": [
       "LinearRegression()"
      ]
     },
     "execution_count": 91,
     "metadata": {},
     "output_type": "execute_result"
    }
   ],
   "source": [
    "model.fit(new_lr_df,df.Area)"
   ]
  },
  {
   "cell_type": "code",
   "execution_count": 92,
   "id": "4c1f92da",
   "metadata": {},
   "outputs": [
    {
     "ename": "ValueError",
     "evalue": "matmul: Input operand 1 has a mismatch in its core dimension 0, with gufunc signature (n?,k),(k,m?)->(n?,m?) (size 2 is different from 1)",
     "output_type": "error",
     "traceback": [
      "\u001b[1;31m---------------------------------------------------------------------------\u001b[0m",
      "\u001b[1;31mValueError\u001b[0m                                Traceback (most recent call last)",
      "\u001b[1;32mC:\\Users\\MCAE23~3\\AppData\\Local\\Temp/ipykernel_2012/3810922230.py\u001b[0m in \u001b[0;36m<module>\u001b[1;34m\u001b[0m\n\u001b[1;32m----> 1\u001b[1;33m \u001b[0mmodel\u001b[0m\u001b[1;33m.\u001b[0m\u001b[0mpredict\u001b[0m\u001b[1;33m(\u001b[0m\u001b[1;33m[\u001b[0m\u001b[1;33m[\u001b[0m\u001b[1;36m10\u001b[0m\u001b[1;33m]\u001b[0m\u001b[1;33m]\u001b[0m\u001b[1;33m)\u001b[0m\u001b[1;33m\u001b[0m\u001b[1;33m\u001b[0m\u001b[0m\n\u001b[0m",
      "\u001b[1;32mC:\\ProgramData\\Anaconda3\\lib\\site-packages\\sklearn\\linear_model\\_base.py\u001b[0m in \u001b[0;36mpredict\u001b[1;34m(self, X)\u001b[0m\n\u001b[0;32m    236\u001b[0m             \u001b[0mReturns\u001b[0m \u001b[0mpredicted\u001b[0m \u001b[0mvalues\u001b[0m\u001b[1;33m.\u001b[0m\u001b[1;33m\u001b[0m\u001b[1;33m\u001b[0m\u001b[0m\n\u001b[0;32m    237\u001b[0m         \"\"\"\n\u001b[1;32m--> 238\u001b[1;33m         \u001b[1;32mreturn\u001b[0m \u001b[0mself\u001b[0m\u001b[1;33m.\u001b[0m\u001b[0m_decision_function\u001b[0m\u001b[1;33m(\u001b[0m\u001b[0mX\u001b[0m\u001b[1;33m)\u001b[0m\u001b[1;33m\u001b[0m\u001b[1;33m\u001b[0m\u001b[0m\n\u001b[0m\u001b[0;32m    239\u001b[0m \u001b[1;33m\u001b[0m\u001b[0m\n\u001b[0;32m    240\u001b[0m     \u001b[0m_preprocess_data\u001b[0m \u001b[1;33m=\u001b[0m \u001b[0mstaticmethod\u001b[0m\u001b[1;33m(\u001b[0m\u001b[0m_preprocess_data\u001b[0m\u001b[1;33m)\u001b[0m\u001b[1;33m\u001b[0m\u001b[1;33m\u001b[0m\u001b[0m\n",
      "\u001b[1;32mC:\\ProgramData\\Anaconda3\\lib\\site-packages\\sklearn\\linear_model\\_base.py\u001b[0m in \u001b[0;36m_decision_function\u001b[1;34m(self, X)\u001b[0m\n\u001b[0;32m    219\u001b[0m \u001b[1;33m\u001b[0m\u001b[0m\n\u001b[0;32m    220\u001b[0m         \u001b[0mX\u001b[0m \u001b[1;33m=\u001b[0m \u001b[0mcheck_array\u001b[0m\u001b[1;33m(\u001b[0m\u001b[0mX\u001b[0m\u001b[1;33m,\u001b[0m \u001b[0maccept_sparse\u001b[0m\u001b[1;33m=\u001b[0m\u001b[1;33m[\u001b[0m\u001b[1;34m'csr'\u001b[0m\u001b[1;33m,\u001b[0m \u001b[1;34m'csc'\u001b[0m\u001b[1;33m,\u001b[0m \u001b[1;34m'coo'\u001b[0m\u001b[1;33m]\u001b[0m\u001b[1;33m)\u001b[0m\u001b[1;33m\u001b[0m\u001b[1;33m\u001b[0m\u001b[0m\n\u001b[1;32m--> 221\u001b[1;33m         return safe_sparse_dot(X, self.coef_.T,\n\u001b[0m\u001b[0;32m    222\u001b[0m                                dense_output=True) + self.intercept_\n\u001b[0;32m    223\u001b[0m \u001b[1;33m\u001b[0m\u001b[0m\n",
      "\u001b[1;32mC:\\ProgramData\\Anaconda3\\lib\\site-packages\\sklearn\\utils\\validation.py\u001b[0m in \u001b[0;36minner_f\u001b[1;34m(*args, **kwargs)\u001b[0m\n\u001b[0;32m     61\u001b[0m             \u001b[0mextra_args\u001b[0m \u001b[1;33m=\u001b[0m \u001b[0mlen\u001b[0m\u001b[1;33m(\u001b[0m\u001b[0margs\u001b[0m\u001b[1;33m)\u001b[0m \u001b[1;33m-\u001b[0m \u001b[0mlen\u001b[0m\u001b[1;33m(\u001b[0m\u001b[0mall_args\u001b[0m\u001b[1;33m)\u001b[0m\u001b[1;33m\u001b[0m\u001b[1;33m\u001b[0m\u001b[0m\n\u001b[0;32m     62\u001b[0m             \u001b[1;32mif\u001b[0m \u001b[0mextra_args\u001b[0m \u001b[1;33m<=\u001b[0m \u001b[1;36m0\u001b[0m\u001b[1;33m:\u001b[0m\u001b[1;33m\u001b[0m\u001b[1;33m\u001b[0m\u001b[0m\n\u001b[1;32m---> 63\u001b[1;33m                 \u001b[1;32mreturn\u001b[0m \u001b[0mf\u001b[0m\u001b[1;33m(\u001b[0m\u001b[1;33m*\u001b[0m\u001b[0margs\u001b[0m\u001b[1;33m,\u001b[0m \u001b[1;33m**\u001b[0m\u001b[0mkwargs\u001b[0m\u001b[1;33m)\u001b[0m\u001b[1;33m\u001b[0m\u001b[1;33m\u001b[0m\u001b[0m\n\u001b[0m\u001b[0;32m     64\u001b[0m \u001b[1;33m\u001b[0m\u001b[0m\n\u001b[0;32m     65\u001b[0m             \u001b[1;31m# extra_args > 0\u001b[0m\u001b[1;33m\u001b[0m\u001b[1;33m\u001b[0m\u001b[0m\n",
      "\u001b[1;32mC:\\ProgramData\\Anaconda3\\lib\\site-packages\\sklearn\\utils\\extmath.py\u001b[0m in \u001b[0;36msafe_sparse_dot\u001b[1;34m(a, b, dense_output)\u001b[0m\n\u001b[0;32m    150\u001b[0m             \u001b[0mret\u001b[0m \u001b[1;33m=\u001b[0m \u001b[0mnp\u001b[0m\u001b[1;33m.\u001b[0m\u001b[0mdot\u001b[0m\u001b[1;33m(\u001b[0m\u001b[0ma\u001b[0m\u001b[1;33m,\u001b[0m \u001b[0mb\u001b[0m\u001b[1;33m)\u001b[0m\u001b[1;33m\u001b[0m\u001b[1;33m\u001b[0m\u001b[0m\n\u001b[0;32m    151\u001b[0m     \u001b[1;32melse\u001b[0m\u001b[1;33m:\u001b[0m\u001b[1;33m\u001b[0m\u001b[1;33m\u001b[0m\u001b[0m\n\u001b[1;32m--> 152\u001b[1;33m         \u001b[0mret\u001b[0m \u001b[1;33m=\u001b[0m \u001b[0ma\u001b[0m \u001b[1;33m@\u001b[0m \u001b[0mb\u001b[0m\u001b[1;33m\u001b[0m\u001b[1;33m\u001b[0m\u001b[0m\n\u001b[0m\u001b[0;32m    153\u001b[0m \u001b[1;33m\u001b[0m\u001b[0m\n\u001b[0;32m    154\u001b[0m     if (sparse.issparse(a) and sparse.issparse(b)\n",
      "\u001b[1;31mValueError\u001b[0m: matmul: Input operand 1 has a mismatch in its core dimension 0, with gufunc signature (n?,k),(k,m?)->(n?,m?) (size 2 is different from 1)"
     ]
    }
   ],
   "source": [
    "model.predict([[10]])"
   ]
  },
  {
   "cell_type": "code",
   "execution_count": 93,
   "id": "1f7f27a6",
   "metadata": {},
   "outputs": [],
   "source": [
    "#DecicionTree\n",
    "from sklearn.model_selection import train_test_split"
   ]
  },
  {
   "cell_type": "code",
   "execution_count": 94,
   "id": "563ada7f",
   "metadata": {},
   "outputs": [],
   "source": [
    "df_tree = df[['Area','Perimeter','ConvexArea','Class']]"
   ]
  },
  {
   "cell_type": "code",
   "execution_count": 95,
   "id": "fd138583",
   "metadata": {},
   "outputs": [],
   "source": [
    "x=df_tree.iloc[:,[0,1,2]].values\n",
    "y=df_tree.iloc[:,3].values"
   ]
  },
  {
   "cell_type": "code",
   "execution_count": 96,
   "id": "8b04f02c",
   "metadata": {},
   "outputs": [],
   "source": [
    "from sklearn.model_selection import train_test_split\n",
    "x_train, x_test, y_train, y_test= train_test_split(x,y,test_size=0.25,random_state=10)"
   ]
  },
  {
   "cell_type": "code",
   "execution_count": 97,
   "id": "6408013a",
   "metadata": {},
   "outputs": [],
   "source": [
    "from sklearn.preprocessing import StandardScaler\n",
    "st_x=StandardScaler()\n",
    "x_train = st_x.fit_transform(x_train)\n",
    "x_test = st_x.transform(x_test)"
   ]
  },
  {
   "cell_type": "code",
   "execution_count": 98,
   "id": "932c375e",
   "metadata": {},
   "outputs": [
    {
     "data": {
      "text/plain": [
       "DecisionTreeClassifier(criterion='entropy')"
      ]
     },
     "execution_count": 98,
     "metadata": {},
     "output_type": "execute_result"
    }
   ],
   "source": [
    "from sklearn.tree import DecisionTreeClassifier\n",
    "model = DecisionTreeClassifier(criterion='entropy')\n",
    "model.fit(x_train,y_train)"
   ]
  },
  {
   "cell_type": "code",
   "execution_count": 99,
   "id": "3db3bdf1",
   "metadata": {},
   "outputs": [],
   "source": [
    "y_pred = model.predict(x_test)"
   ]
  },
  {
   "cell_type": "code",
   "execution_count": 100,
   "id": "d6eeb667",
   "metadata": {},
   "outputs": [
    {
     "data": {
      "text/plain": [
       "array([[136,   0],\n",
       "       [  0, 654]], dtype=int64)"
      ]
     },
     "execution_count": 100,
     "metadata": {},
     "output_type": "execute_result"
    }
   ],
   "source": [
    "from sklearn.metrics import confusion_matrix, precision_score, recall_score\n",
    "cm = confusion_matrix(y_test,y_pred)\n",
    "cm"
   ]
  },
  {
   "cell_type": "code",
   "execution_count": 80,
   "id": "be1aaa70",
   "metadata": {},
   "outputs": [
    {
     "data": {
      "text/plain": [
       "100.0"
      ]
     },
     "execution_count": 80,
     "metadata": {},
     "output_type": "execute_result"
    }
   ],
   "source": [
    "from sklearn.metrics import accuracy_score,recall_score,precision_score\n",
    "accuracy_score(y_test, y_pred)*100"
   ]
  },
  {
   "cell_type": "code",
   "execution_count": 81,
   "id": "0e42cf5e",
   "metadata": {},
   "outputs": [
    {
     "data": {
      "text/plain": [
       "1.0"
      ]
     },
     "execution_count": 81,
     "metadata": {},
     "output_type": "execute_result"
    }
   ],
   "source": [
    "recall_score(y_test, y_pred, pos_label='BOMBAY', average='binary')"
   ]
  },
  {
   "cell_type": "code",
   "execution_count": 82,
   "id": "be1b59d3",
   "metadata": {},
   "outputs": [
    {
     "data": {
      "text/plain": [
       "1.0"
      ]
     },
     "execution_count": 82,
     "metadata": {},
     "output_type": "execute_result"
    }
   ],
   "source": [
    "precision_score(y_test, y_pred, pos_label='BOMBAY', average='binary')"
   ]
  },
  {
   "cell_type": "code",
   "execution_count": 102,
   "id": "7c2348d0",
   "metadata": {},
   "outputs": [],
   "source": [
    "#SVM\n",
    "from sklearn.svm import SVC\n",
    "model = SVC(kernel='linear') "
   ]
  },
  {
   "cell_type": "code",
   "execution_count": 103,
   "id": "f229deb6",
   "metadata": {},
   "outputs": [
    {
     "data": {
      "text/plain": [
       "SVC(kernel='linear')"
      ]
     },
     "execution_count": 103,
     "metadata": {},
     "output_type": "execute_result"
    }
   ],
   "source": [
    "model.fit(x_train,y_train)"
   ]
  },
  {
   "cell_type": "code",
   "execution_count": 104,
   "id": "c6fb213c",
   "metadata": {},
   "outputs": [],
   "source": [
    "svm_pred = model.predict(x_test)"
   ]
  },
  {
   "cell_type": "code",
   "execution_count": 105,
   "id": "87f52f49",
   "metadata": {},
   "outputs": [
    {
     "data": {
      "text/plain": [
       "array(['SIRA', 'SIRA', 'BOMBAY', 'SIRA', 'SIRA', 'BOMBAY', 'SIRA', 'SIRA',\n",
       "       'SIRA', 'SIRA', 'BOMBAY', 'SIRA', 'SIRA', 'SIRA', 'SIRA', 'BOMBAY',\n",
       "       'SIRA', 'SIRA', 'SIRA', 'SIRA', 'SIRA', 'SIRA', 'SIRA', 'SIRA',\n",
       "       'SIRA', 'SIRA', 'BOMBAY', 'BOMBAY', 'SIRA', 'SIRA', 'SIRA', 'SIRA',\n",
       "       'SIRA', 'BOMBAY', 'BOMBAY', 'SIRA', 'SIRA', 'BOMBAY', 'SIRA',\n",
       "       'SIRA', 'SIRA', 'BOMBAY', 'SIRA', 'SIRA', 'SIRA', 'SIRA', 'SIRA',\n",
       "       'SIRA', 'BOMBAY', 'SIRA', 'SIRA', 'SIRA', 'SIRA', 'BOMBAY', 'SIRA',\n",
       "       'SIRA', 'SIRA', 'SIRA', 'SIRA', 'SIRA', 'SIRA', 'SIRA', 'SIRA',\n",
       "       'SIRA', 'SIRA', 'SIRA', 'SIRA', 'SIRA', 'SIRA', 'SIRA', 'SIRA',\n",
       "       'BOMBAY', 'SIRA', 'SIRA', 'SIRA', 'SIRA', 'SIRA', 'SIRA', 'SIRA',\n",
       "       'SIRA', 'SIRA', 'BOMBAY', 'SIRA', 'SIRA', 'SIRA', 'SIRA', 'SIRA',\n",
       "       'SIRA', 'SIRA', 'SIRA', 'SIRA', 'SIRA', 'SIRA', 'SIRA', 'BOMBAY',\n",
       "       'BOMBAY', 'SIRA', 'BOMBAY', 'SIRA', 'SIRA', 'SIRA', 'SIRA', 'SIRA',\n",
       "       'SIRA', 'SIRA', 'SIRA', 'SIRA', 'SIRA', 'SIRA', 'SIRA', 'BOMBAY',\n",
       "       'SIRA', 'SIRA', 'SIRA', 'SIRA', 'SIRA', 'SIRA', 'SIRA', 'SIRA',\n",
       "       'SIRA', 'SIRA', 'BOMBAY', 'SIRA', 'SIRA', 'SIRA', 'SIRA', 'SIRA',\n",
       "       'SIRA', 'SIRA', 'BOMBAY', 'SIRA', 'SIRA', 'SIRA', 'SIRA', 'SIRA',\n",
       "       'SIRA', 'SIRA', 'SIRA', 'SIRA', 'SIRA', 'SIRA', 'SIRA', 'SIRA',\n",
       "       'BOMBAY', 'SIRA', 'SIRA', 'SIRA', 'BOMBAY', 'SIRA', 'SIRA', 'SIRA',\n",
       "       'SIRA', 'SIRA', 'SIRA', 'SIRA', 'SIRA', 'SIRA', 'SIRA', 'SIRA',\n",
       "       'BOMBAY', 'SIRA', 'SIRA', 'BOMBAY', 'SIRA', 'BOMBAY', 'SIRA',\n",
       "       'BOMBAY', 'SIRA', 'SIRA', 'SIRA', 'SIRA', 'SIRA', 'SIRA', 'SIRA',\n",
       "       'SIRA', 'SIRA', 'SIRA', 'SIRA', 'SIRA', 'SIRA', 'BOMBAY', 'SIRA',\n",
       "       'SIRA', 'SIRA', 'SIRA', 'SIRA', 'BOMBAY', 'BOMBAY', 'SIRA',\n",
       "       'BOMBAY', 'SIRA', 'SIRA', 'SIRA', 'SIRA', 'BOMBAY', 'SIRA',\n",
       "       'BOMBAY', 'SIRA', 'BOMBAY', 'SIRA', 'BOMBAY', 'SIRA', 'SIRA',\n",
       "       'SIRA', 'SIRA', 'SIRA', 'SIRA', 'SIRA', 'SIRA', 'BOMBAY', 'SIRA',\n",
       "       'BOMBAY', 'SIRA', 'SIRA', 'BOMBAY', 'BOMBAY', 'SIRA', 'SIRA',\n",
       "       'SIRA', 'SIRA', 'BOMBAY', 'SIRA', 'SIRA', 'SIRA', 'SIRA', 'SIRA',\n",
       "       'SIRA', 'SIRA', 'SIRA', 'SIRA', 'SIRA', 'SIRA', 'SIRA', 'SIRA',\n",
       "       'SIRA', 'SIRA', 'SIRA', 'SIRA', 'SIRA', 'SIRA', 'SIRA', 'SIRA',\n",
       "       'SIRA', 'SIRA', 'SIRA', 'BOMBAY', 'BOMBAY', 'SIRA', 'BOMBAY',\n",
       "       'SIRA', 'SIRA', 'SIRA', 'SIRA', 'BOMBAY', 'SIRA', 'SIRA', 'SIRA',\n",
       "       'SIRA', 'SIRA', 'SIRA', 'BOMBAY', 'SIRA', 'SIRA', 'SIRA', 'SIRA',\n",
       "       'SIRA', 'SIRA', 'SIRA', 'SIRA', 'SIRA', 'SIRA', 'SIRA', 'BOMBAY',\n",
       "       'SIRA', 'SIRA', 'SIRA', 'SIRA', 'BOMBAY', 'BOMBAY', 'SIRA', 'SIRA',\n",
       "       'SIRA', 'SIRA', 'SIRA', 'SIRA', 'SIRA', 'SIRA', 'SIRA', 'SIRA',\n",
       "       'SIRA', 'SIRA', 'SIRA', 'SIRA', 'SIRA', 'SIRA', 'SIRA', 'SIRA',\n",
       "       'SIRA', 'SIRA', 'SIRA', 'BOMBAY', 'BOMBAY', 'SIRA', 'SIRA', 'SIRA',\n",
       "       'SIRA', 'BOMBAY', 'SIRA', 'SIRA', 'SIRA', 'SIRA', 'SIRA', 'SIRA',\n",
       "       'SIRA', 'SIRA', 'SIRA', 'BOMBAY', 'SIRA', 'BOMBAY', 'SIRA', 'SIRA',\n",
       "       'SIRA', 'SIRA', 'SIRA', 'SIRA', 'SIRA', 'BOMBAY', 'SIRA', 'SIRA',\n",
       "       'SIRA', 'SIRA', 'SIRA', 'BOMBAY', 'SIRA', 'SIRA', 'SIRA', 'SIRA',\n",
       "       'BOMBAY', 'SIRA', 'SIRA', 'BOMBAY', 'BOMBAY', 'SIRA', 'SIRA',\n",
       "       'SIRA', 'SIRA', 'SIRA', 'SIRA', 'SIRA', 'SIRA', 'BOMBAY', 'BOMBAY',\n",
       "       'SIRA', 'SIRA', 'SIRA', 'SIRA', 'SIRA', 'SIRA', 'SIRA', 'SIRA',\n",
       "       'SIRA', 'SIRA', 'SIRA', 'SIRA', 'SIRA', 'SIRA', 'BOMBAY', 'SIRA',\n",
       "       'SIRA', 'SIRA', 'BOMBAY', 'SIRA', 'SIRA', 'BOMBAY', 'BOMBAY',\n",
       "       'SIRA', 'SIRA', 'SIRA', 'SIRA', 'SIRA', 'SIRA', 'SIRA', 'SIRA',\n",
       "       'SIRA', 'SIRA', 'SIRA', 'SIRA', 'BOMBAY', 'SIRA', 'BOMBAY', 'SIRA',\n",
       "       'SIRA', 'SIRA', 'BOMBAY', 'SIRA', 'SIRA', 'SIRA', 'SIRA', 'BOMBAY',\n",
       "       'BOMBAY', 'SIRA', 'SIRA', 'SIRA', 'SIRA', 'SIRA', 'SIRA', 'SIRA',\n",
       "       'SIRA', 'SIRA', 'SIRA', 'SIRA', 'SIRA', 'SIRA', 'BOMBAY', 'SIRA',\n",
       "       'SIRA', 'SIRA', 'SIRA', 'SIRA', 'SIRA', 'SIRA', 'SIRA', 'SIRA',\n",
       "       'SIRA', 'SIRA', 'SIRA', 'SIRA', 'SIRA', 'SIRA', 'SIRA', 'SIRA',\n",
       "       'SIRA', 'SIRA', 'SIRA', 'SIRA', 'SIRA', 'BOMBAY', 'SIRA', 'SIRA',\n",
       "       'SIRA', 'SIRA', 'BOMBAY', 'SIRA', 'SIRA', 'SIRA', 'SIRA', 'SIRA',\n",
       "       'SIRA', 'BOMBAY', 'SIRA', 'SIRA', 'SIRA', 'BOMBAY', 'BOMBAY',\n",
       "       'BOMBAY', 'SIRA', 'SIRA', 'SIRA', 'SIRA', 'SIRA', 'SIRA', 'SIRA',\n",
       "       'SIRA', 'SIRA', 'SIRA', 'SIRA', 'SIRA', 'SIRA', 'SIRA', 'SIRA',\n",
       "       'SIRA', 'SIRA', 'BOMBAY', 'SIRA', 'SIRA', 'SIRA', 'SIRA', 'BOMBAY',\n",
       "       'SIRA', 'SIRA', 'SIRA', 'SIRA', 'SIRA', 'BOMBAY', 'SIRA', 'SIRA',\n",
       "       'SIRA', 'BOMBAY', 'SIRA', 'SIRA', 'SIRA', 'SIRA', 'SIRA', 'SIRA',\n",
       "       'BOMBAY', 'SIRA', 'SIRA', 'SIRA', 'SIRA', 'BOMBAY', 'BOMBAY',\n",
       "       'SIRA', 'SIRA', 'BOMBAY', 'SIRA', 'SIRA', 'SIRA', 'SIRA', 'SIRA',\n",
       "       'SIRA', 'SIRA', 'SIRA', 'SIRA', 'SIRA', 'SIRA', 'SIRA', 'SIRA',\n",
       "       'SIRA', 'SIRA', 'BOMBAY', 'SIRA', 'BOMBAY', 'SIRA', 'SIRA',\n",
       "       'BOMBAY', 'SIRA', 'SIRA', 'SIRA', 'SIRA', 'BOMBAY', 'SIRA', 'SIRA',\n",
       "       'BOMBAY', 'SIRA', 'SIRA', 'SIRA', 'SIRA', 'SIRA', 'SIRA', 'SIRA',\n",
       "       'SIRA', 'SIRA', 'SIRA', 'BOMBAY', 'SIRA', 'SIRA', 'SIRA', 'SIRA',\n",
       "       'SIRA', 'SIRA', 'SIRA', 'SIRA', 'BOMBAY', 'SIRA', 'SIRA', 'SIRA',\n",
       "       'BOMBAY', 'SIRA', 'SIRA', 'SIRA', 'SIRA', 'SIRA', 'SIRA', 'SIRA',\n",
       "       'SIRA', 'SIRA', 'SIRA', 'BOMBAY', 'SIRA', 'SIRA', 'SIRA', 'SIRA',\n",
       "       'SIRA', 'BOMBAY', 'BOMBAY', 'SIRA', 'SIRA', 'SIRA', 'SIRA',\n",
       "       'BOMBAY', 'SIRA', 'SIRA', 'SIRA', 'SIRA', 'BOMBAY', 'BOMBAY',\n",
       "       'SIRA', 'SIRA', 'SIRA', 'SIRA', 'SIRA', 'SIRA', 'SIRA', 'SIRA',\n",
       "       'BOMBAY', 'SIRA', 'SIRA', 'SIRA', 'BOMBAY', 'SIRA', 'SIRA', 'SIRA',\n",
       "       'SIRA', 'SIRA', 'SIRA', 'SIRA', 'BOMBAY', 'SIRA', 'SIRA', 'SIRA',\n",
       "       'SIRA', 'SIRA', 'SIRA', 'SIRA', 'SIRA', 'SIRA', 'SIRA', 'SIRA',\n",
       "       'SIRA', 'SIRA', 'SIRA', 'SIRA', 'SIRA', 'SIRA', 'SIRA', 'SIRA',\n",
       "       'SIRA', 'BOMBAY', 'SIRA', 'SIRA', 'BOMBAY', 'SIRA', 'SIRA', 'SIRA',\n",
       "       'SIRA', 'BOMBAY', 'SIRA', 'SIRA', 'SIRA', 'BOMBAY', 'SIRA', 'SIRA',\n",
       "       'SIRA', 'SIRA', 'SIRA', 'BOMBAY', 'BOMBAY', 'SIRA', 'BOMBAY',\n",
       "       'SIRA', 'SIRA', 'SIRA', 'SIRA', 'BOMBAY', 'SIRA', 'SIRA', 'SIRA',\n",
       "       'SIRA', 'SIRA', 'BOMBAY', 'SIRA', 'BOMBAY', 'SIRA', 'BOMBAY',\n",
       "       'SIRA', 'SIRA', 'SIRA', 'SIRA', 'SIRA', 'SIRA', 'SIRA', 'SIRA',\n",
       "       'SIRA', 'BOMBAY', 'SIRA', 'BOMBAY', 'SIRA', 'SIRA', 'SIRA', 'SIRA',\n",
       "       'SIRA', 'SIRA', 'SIRA', 'SIRA', 'SIRA', 'SIRA', 'SIRA', 'BOMBAY',\n",
       "       'SIRA', 'SIRA', 'BOMBAY', 'SIRA', 'SIRA', 'SIRA', 'SIRA', 'SIRA',\n",
       "       'SIRA', 'SIRA', 'SIRA', 'SIRA', 'SIRA', 'SIRA', 'SIRA', 'SIRA',\n",
       "       'BOMBAY', 'SIRA', 'SIRA', 'SIRA', 'SIRA', 'SIRA', 'SIRA', 'BOMBAY',\n",
       "       'BOMBAY', 'SIRA', 'SIRA', 'BOMBAY', 'BOMBAY', 'SIRA', 'SIRA',\n",
       "       'BOMBAY', 'SIRA', 'SIRA', 'BOMBAY', 'SIRA', 'SIRA', 'BOMBAY',\n",
       "       'BOMBAY', 'SIRA', 'SIRA', 'SIRA', 'SIRA', 'SIRA', 'SIRA', 'BOMBAY',\n",
       "       'SIRA', 'SIRA', 'SIRA', 'SIRA', 'SIRA', 'SIRA', 'SIRA', 'SIRA',\n",
       "       'SIRA', 'BOMBAY', 'BOMBAY', 'SIRA', 'SIRA', 'BOMBAY', 'SIRA',\n",
       "       'BOMBAY', 'SIRA', 'BOMBAY', 'SIRA', 'SIRA', 'SIRA', 'SIRA', 'SIRA',\n",
       "       'SIRA', 'SIRA', 'SIRA', 'BOMBAY', 'SIRA', 'SIRA', 'SIRA', 'BOMBAY',\n",
       "       'SIRA', 'SIRA', 'SIRA', 'SIRA', 'SIRA', 'SIRA', 'BOMBAY', 'SIRA',\n",
       "       'SIRA', 'SIRA', 'SIRA', 'SIRA', 'BOMBAY', 'SIRA', 'SIRA', 'BOMBAY',\n",
       "       'SIRA', 'SIRA', 'SIRA', 'SIRA', 'SIRA', 'SIRA', 'SIRA', 'BOMBAY',\n",
       "       'SIRA'], dtype=object)"
      ]
     },
     "execution_count": 105,
     "metadata": {},
     "output_type": "execute_result"
    }
   ],
   "source": [
    "svm_pred"
   ]
  },
  {
   "cell_type": "code",
   "execution_count": 107,
   "id": "2a7efb47",
   "metadata": {},
   "outputs": [
    {
     "data": {
      "text/plain": [
       "100.0"
      ]
     },
     "execution_count": 107,
     "metadata": {},
     "output_type": "execute_result"
    }
   ],
   "source": [
    "accuracy_score(y_test, y_pred)*100"
   ]
  },
  {
   "cell_type": "code",
   "execution_count": 108,
   "id": "31ad77ee",
   "metadata": {},
   "outputs": [
    {
     "data": {
      "text/plain": [
       "1.0"
      ]
     },
     "execution_count": 108,
     "metadata": {},
     "output_type": "execute_result"
    }
   ],
   "source": [
    "recall_score(y_test, y_pred, pos_label='BOMBAY', average='binary')\n",
    "precision_score(y_test, y_pred, pos_label='BOMBAY', average='binary')"
   ]
  },
  {
   "cell_type": "code",
   "execution_count": 112,
   "id": "c86510d8",
   "metadata": {},
   "outputs": [
    {
     "data": {
      "text/html": [
       "<div>\n",
       "<style scoped>\n",
       "    .dataframe tbody tr th:only-of-type {\n",
       "        vertical-align: middle;\n",
       "    }\n",
       "\n",
       "    .dataframe tbody tr th {\n",
       "        vertical-align: top;\n",
       "    }\n",
       "\n",
       "    .dataframe thead th {\n",
       "        text-align: right;\n",
       "    }\n",
       "</style>\n",
       "<table border=\"1\" class=\"dataframe\">\n",
       "  <thead>\n",
       "    <tr style=\"text-align: right;\">\n",
       "      <th></th>\n",
       "      <th>Area</th>\n",
       "      <th>Perimeter</th>\n",
       "      <th>ConvexArea</th>\n",
       "    </tr>\n",
       "  </thead>\n",
       "  <tbody>\n",
       "    <tr>\n",
       "      <th>0</th>\n",
       "      <td>114004</td>\n",
       "      <td>1279.356</td>\n",
       "      <td>115298</td>\n",
       "    </tr>\n",
       "    <tr>\n",
       "      <th>1</th>\n",
       "      <td>117034</td>\n",
       "      <td>1265.926</td>\n",
       "      <td>118019</td>\n",
       "    </tr>\n",
       "    <tr>\n",
       "      <th>2</th>\n",
       "      <td>126503</td>\n",
       "      <td>1326.959</td>\n",
       "      <td>128220</td>\n",
       "    </tr>\n",
       "    <tr>\n",
       "      <th>3</th>\n",
       "      <td>128118</td>\n",
       "      <td>1360.135</td>\n",
       "      <td>129274</td>\n",
       "    </tr>\n",
       "    <tr>\n",
       "      <th>4</th>\n",
       "      <td>129409</td>\n",
       "      <td>1348.888</td>\n",
       "      <td>130688</td>\n",
       "    </tr>\n",
       "    <tr>\n",
       "      <th>...</th>\n",
       "      <td>...</td>\n",
       "      <td>...</td>\n",
       "      <td>...</td>\n",
       "    </tr>\n",
       "    <tr>\n",
       "      <th>3153</th>\n",
       "      <td>58063</td>\n",
       "      <td>941.882</td>\n",
       "      <td>58936</td>\n",
       "    </tr>\n",
       "    <tr>\n",
       "      <th>3154</th>\n",
       "      <td>58074</td>\n",
       "      <td>910.115</td>\n",
       "      <td>58609</td>\n",
       "    </tr>\n",
       "    <tr>\n",
       "      <th>3155</th>\n",
       "      <td>59431</td>\n",
       "      <td>956.785</td>\n",
       "      <td>60276</td>\n",
       "    </tr>\n",
       "    <tr>\n",
       "      <th>3156</th>\n",
       "      <td>60493</td>\n",
       "      <td>931.321</td>\n",
       "      <td>61239</td>\n",
       "    </tr>\n",
       "    <tr>\n",
       "      <th>3157</th>\n",
       "      <td>63612</td>\n",
       "      <td>984.282</td>\n",
       "      <td>64581</td>\n",
       "    </tr>\n",
       "  </tbody>\n",
       "</table>\n",
       "<p>3158 rows × 3 columns</p>\n",
       "</div>"
      ],
      "text/plain": [
       "        Area  Perimeter  ConvexArea\n",
       "0     114004   1279.356      115298\n",
       "1     117034   1265.926      118019\n",
       "2     126503   1326.959      128220\n",
       "3     128118   1360.135      129274\n",
       "4     129409   1348.888      130688\n",
       "...      ...        ...         ...\n",
       "3153   58063    941.882       58936\n",
       "3154   58074    910.115       58609\n",
       "3155   59431    956.785       60276\n",
       "3156   60493    931.321       61239\n",
       "3157   63612    984.282       64581\n",
       "\n",
       "[3158 rows x 3 columns]"
      ]
     },
     "execution_count": 112,
     "metadata": {},
     "output_type": "execute_result"
    }
   ],
   "source": [
    "#MultipleRegression\n",
    "df_multi = df[['Area','Perimeter','ConvexArea']]\n",
    "df_multi"
   ]
  },
  {
   "cell_type": "code",
   "execution_count": 119,
   "id": "afb4be3e",
   "metadata": {},
   "outputs": [
    {
     "data": {
      "text/plain": [
       "array([63612.])"
      ]
     },
     "execution_count": 119,
     "metadata": {},
     "output_type": "execute_result"
    }
   ],
   "source": [
    "new_multi = df_multi.drop('ConvexArea',axis='columns')\n",
    "model = linear_model.LinearRegression()\n",
    "model.fit(new_multi,df_multi.Area)\n",
    "model.predict([[63612,100]])"
   ]
  },
  {
   "cell_type": "code",
   "execution_count": 120,
   "id": "2c3696d4",
   "metadata": {},
   "outputs": [
    {
     "data": {
      "text/plain": [
       "RandomForestClassifier()"
      ]
     },
     "execution_count": 120,
     "metadata": {},
     "output_type": "execute_result"
    }
   ],
   "source": [
    "#RandomForest\n",
    "from sklearn.ensemble import RandomForestClassifier\n",
    "model = RandomForestClassifier()\n",
    "model.fit(x_train,y_train)"
   ]
  },
  {
   "cell_type": "code",
   "execution_count": 121,
   "id": "75f83499",
   "metadata": {},
   "outputs": [],
   "source": [
    "rd_pred = model.predict(x_test)"
   ]
  },
  {
   "cell_type": "code",
   "execution_count": 122,
   "id": "c14ca174",
   "metadata": {},
   "outputs": [
    {
     "data": {
      "text/plain": [
       "100.0"
      ]
     },
     "execution_count": 122,
     "metadata": {},
     "output_type": "execute_result"
    }
   ],
   "source": [
    "accuracy_score(y_test, rd_pred)*100"
   ]
  },
  {
   "cell_type": "code",
   "execution_count": 123,
   "id": "ef23aa53",
   "metadata": {},
   "outputs": [
    {
     "data": {
      "text/plain": [
       "1.0"
      ]
     },
     "execution_count": 123,
     "metadata": {},
     "output_type": "execute_result"
    }
   ],
   "source": [
    "recall_score(y_test, rd_pred, pos_label='BOMBAY', average='binary')\n",
    "precision_score(y_test, rd_pred, pos_label='BOMBAY', average='binary')"
   ]
  },
  {
   "cell_type": "code",
   "execution_count": 125,
   "id": "39b91999",
   "metadata": {},
   "outputs": [],
   "source": [
    "#KNN\n",
    "from sklearn.neighbors import KNeighborsClassifier\n",
    "model = KNeighborsClassifier(n_neighbors=7)"
   ]
  },
  {
   "cell_type": "code",
   "execution_count": 126,
   "id": "18f0eeb3",
   "metadata": {},
   "outputs": [
    {
     "data": {
      "text/plain": [
       "KNeighborsClassifier(n_neighbors=7)"
      ]
     },
     "execution_count": 126,
     "metadata": {},
     "output_type": "execute_result"
    }
   ],
   "source": [
    "model.fit(x_train,y_train)"
   ]
  },
  {
   "cell_type": "code",
   "execution_count": 128,
   "id": "232e331e",
   "metadata": {},
   "outputs": [
    {
     "data": {
      "text/plain": [
       "100.0"
      ]
     },
     "execution_count": 128,
     "metadata": {},
     "output_type": "execute_result"
    }
   ],
   "source": [
    "nv_pred = model.predict(x_test)\n",
    "accuracy_score(y_test, nv_pred)*100"
   ]
  },
  {
   "cell_type": "code",
   "execution_count": 130,
   "id": "220d4c70",
   "metadata": {},
   "outputs": [
    {
     "data": {
      "text/plain": [
       "1.0"
      ]
     },
     "execution_count": 130,
     "metadata": {},
     "output_type": "execute_result"
    }
   ],
   "source": [
    "recall_score(y_test, nv_pred, pos_label='BOMBAY', average='binary')\n",
    "precision_score(y_test, nv_pred, pos_label='BOMBAY', average='binary')"
   ]
  },
  {
   "cell_type": "code",
   "execution_count": 150,
   "id": "cba2a99b",
   "metadata": {},
   "outputs": [],
   "source": [
    "#NaiveBayes\n",
    "from sklearn.preprocessing import LabelEncoder\n",
    "Numerics = LabelEncoder()\n",
    "df_nb = df[['ShapeFactor1','ShapeFactor2','ShapeFactor3','ShapeFactor4','Class']]\n",
    "inputs = df_nb.drop('Class',axis='columns')\n",
    "target = df['Class']\n",
    "from sklearn.naive_bayes import GaussianNB\n",
    "model = GaussianNB()"
   ]
  },
  {
   "cell_type": "code",
   "execution_count": 151,
   "id": "cb403cb2",
   "metadata": {},
   "outputs": [
    {
     "data": {
      "text/plain": [
       "array(['SIRA'], dtype='<U6')"
      ]
     },
     "execution_count": 151,
     "metadata": {},
     "output_type": "execute_result"
    }
   ],
   "source": [
    "model.fit(inputs,target)\n",
    "model.predict([[0.006303,0.000987,0.503856,0.988574]])"
   ]
  },
  {
   "cell_type": "code",
   "execution_count": null,
   "id": "ea3d886b",
   "metadata": {},
   "outputs": [],
   "source": []
  }
 ],
 "metadata": {
  "kernelspec": {
   "display_name": "Python 3 (ipykernel)",
   "language": "python",
   "name": "python3"
  },
  "language_info": {
   "codemirror_mode": {
    "name": "ipython",
    "version": 3
   },
   "file_extension": ".py",
   "mimetype": "text/x-python",
   "name": "python",
   "nbconvert_exporter": "python",
   "pygments_lexer": "ipython3",
   "version": "3.9.7"
  }
 },
 "nbformat": 4,
 "nbformat_minor": 5
}
